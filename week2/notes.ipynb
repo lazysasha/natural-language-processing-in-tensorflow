{
 "cells": [
  {
   "cell_type": "markdown",
   "metadata": {
    "collapsed": true,
    "pycharm": {
     "name": "#%% md\n"
    }
   },
   "source": [
    "# Week 2: word embeddings\n",
    "How to get a sentiment from a sequence of numbers? It can be learned from a corpus of words (embedding).\n",
    "The idea is that words and associate words are clustered as vectors in multidimensional space.\n",
    "\n",
    "## The IMDB dataset\n",
    "TensorFlow data services (TFDS) is a library that contains lots of data sets in lots of different categories.\n",
    "We will use `imdb_reviews` dataset that contains 50k movie reviews categorized as positive or negative.\n",
    "\n",
    "## Looking into the details"
   ]
  },
  {
   "cell_type": "code",
   "source": [
    "import tensorflow as tf\n",
    "print(tf.__version__) # determine TF version, we will need eager execution which is enabled by default in TF 2.0\n",
    "# Install the TFDS library:\n",
    "# pip install -q tensorflow-datasets\n",
    "\n",
    "import tensorflow_datasets as tfds\n",
    "# get data and metadate from the imdb ds\n",
    "imdb, info = tfds.load(\"imdb_reviews\", with_info=True, as_supervised=True)\n",
    "\n",
    "# Data is split in 25K samples for training and 25K samples for testing\n",
    "import numpy as np\n",
    "train_data, test_data = imdb['train'], imdb['test']\n",
    "\n",
    "training_sentences = []\n",
    "training_labels = []\n",
    "\n",
    "testing_sentences = []\n",
    "testing_labels = []\n",
    "\n",
    "# Do some conversion to get arrays of sentences\n",
    "for s,l in train_data: # iterate over train data to extract sentences and labels\n",
    "    training_sentences.append(str(s.numpy()))\n",
    "    training_labels.append(l.numpy())\n",
    "\n",
    "for s,l in test_data:\n",
    "    testing_sentences.append(str(s.numpy()))\n",
    "    testing_labels.append(l.numpy())\n",
    "\n",
    "# during the training we need a numpy array, so we convert them:\n",
    "training_labels_final = np.array(training_labels)\n",
    "testing_labels_final = np.array(testing_labels)\n",
    "\n",
    "# Tokenize the sentences\n",
    "## first, define some hyperparams:\n",
    "vocab_size = 10000\n",
    "embedding_dim = 16\n",
    "max_length = 120\n",
    "trunc_type = 'post'\n",
    "oov_tok = \"<OOV>\"\n",
    "\n",
    "from tensorflow.keras.preprocessing.text import Tokenizer\n",
    "from tensorflow.keras.preprocessing.sequence import pad_sequences\n",
    "\n",
    "tokenizer = Tokenizer(num_words=vocab_size, oov_token=oov_tok)\n",
    "tokenizer.fit_on_texts(training_sentences) # fit tokenizer on a training set of data\n",
    "word_index = tokenizer.word_index\n",
    "sequences = tokenizer.texts_to_sequences(training_sentences) # replace strings containing the words with token values\n",
    "padded = pad_sequences(sequences, maxlen=max_length, truncating=trunc_type) # pad/truncate the sentences until they are of the same length.\n",
    "\n",
    "# Do the same for testing sequences; there should be more OOV token because we reuse the word index from training step\n",
    "testing_sequences = tokenizer.texts_to_sequences(testing_sentences)\n",
    "testing_padded = pad_sequences(testing_sequences, maxlen=max_length)\n",
    "\n",
    "model = tf.keras.Sequential([\n",
    "    tf.keras.layers.Embedding(vocab_size, embedding_dim, input_length=max_length), # a key to performing text sentiment analysis in TF\n",
    "    # the result of the embedding is a 2d array with a len of the sentence and embedding dimension, that's why we have to flatten it:\n",
    "    # tf.keras.layers.Flatten(),\n",
    "    # or alternatively, use:\n",
    "    tf.keras.layers.GlobalAveragePooling1D(), # averages across the vector to flatten it out\n",
    "\n",
    "    # Dense NN that performs classification:\n",
    "    tf.keras.layers.Dense(6, activation='relu'),\n",
    "    tf.keras.layers.Dense(1, activation='sigmoid'),\n",
    "])"
   ],
   "metadata": {
    "collapsed": false,
    "pycharm": {
     "name": "#%%\n"
    }
   },
   "execution_count": 1,
   "outputs": [
    {
     "name": "stdout",
     "output_type": "stream",
     "text": [
      "2.4.0\n"
     ]
    }
   ]
  },
  {
   "cell_type": "code",
   "execution_count": null,
   "outputs": [],
   "source": [],
   "metadata": {
    "collapsed": false,
    "pycharm": {
     "name": "#%%\n"
    }
   }
  }
 ],
 "metadata": {
  "kernelspec": {
   "display_name": "Python 3",
   "language": "python",
   "name": "python3"
  },
  "language_info": {
   "codemirror_mode": {
    "name": "ipython",
    "version": 2
   },
   "file_extension": ".py",
   "mimetype": "text/x-python",
   "name": "python",
   "nbconvert_exporter": "python",
   "pygments_lexer": "ipython2",
   "version": "2.7.6"
  }
 },
 "nbformat": 4,
 "nbformat_minor": 0
}