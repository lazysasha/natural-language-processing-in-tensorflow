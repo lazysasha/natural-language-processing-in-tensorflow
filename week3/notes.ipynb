{
 "cells": [
  {
   "cell_type": "markdown",
   "metadata": {
    "collapsed": true,
    "pycharm": {
     "name": "#%% md\n"
    }
   },
   "source": [
    "# Week 3: Sequence models (RNN, LSTM)\n",
    "Tokenizing words gave us a negative effect last week because the context of words was hard to follow when the words were broken down into subwords.\n",
    "The sequence in which the tokens of subwords appear becomes very important when understanding their meaning.\n",
    "\n",
    "In RNN, apart from x and y, there is always an element that is fed into a function from a previous function.\n",
    "```\n",
    "y0    y1    y2\n",
    "^     ^     ^\n",
    "| f0  | f1  | f2\n",
    "F --> F --> F -->\n",
    "^     ^     ^\n",
    "|     |     |\n",
    "x0    x1    x2\n",
    "```\n",
    "\n",
    "There can be a limitation when approaching text classification in this way:\n",
    "`Today has a beautiful blue <...>` -> \"blue sky\" - the context word that lets us understand the next word is very close to it.\n",
    "\n",
    "`I lived in Ireland, so at school they made me learn how to speak <...>` -> \"to speak Galeic\" - word \"Ireland\" is a context word but it apeears very far from the predicting word.\n",
    "\n",
    "In this case using LSTM (Long Short-Term Memory) network can be useful to use. LSTM has an additional pipeline of context called \"Cell state\" and this can be passed through the network.\n",
    "This helps to keep context from earlier tokens relevant to later ones.\n",
    "Cell State can also be bi-directional: later contexts can impact earlier ones."
   ]
  },
  {
   "cell_type": "code",
   "source": [
    "\n"
   ],
   "metadata": {
    "collapsed": false,
    "pycharm": {
     "name": "#%%\n"
    }
   },
   "execution_count": null,
   "outputs": []
  }
 ],
 "metadata": {
  "kernelspec": {
   "display_name": "Python 3",
   "language": "python",
   "name": "python3"
  },
  "language_info": {
   "codemirror_mode": {
    "name": "ipython",
    "version": 2
   },
   "file_extension": ".py",
   "mimetype": "text/x-python",
   "name": "python",
   "nbconvert_exporter": "python",
   "pygments_lexer": "ipython2",
   "version": "2.7.6"
  }
 },
 "nbformat": 4,
 "nbformat_minor": 0
}